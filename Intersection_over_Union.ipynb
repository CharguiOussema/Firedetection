{
  "nbformat": 4,
  "nbformat_minor": 0,
  "metadata": {
    "colab": {
      "provenance": [],
      "gpuType": "T4"
    },
    "kernelspec": {
      "name": "python3",
      "display_name": "Python 3"
    },
    "language_info": {
      "name": "python"
    },
    "accelerator": "GPU"
  },
  "cells": [
    {
      "cell_type": "code",
      "execution_count": null,
      "metadata": {
        "id": "CoSWEM8Zv7Fg"
      },
      "outputs": [],
      "source": [
        "import numpy as np\n",
        "import cv2\n",
        "import os\n",
        "import glob\n",
        "import json\n",
        "import operator\n"
      ]
    },
    {
      "cell_type": "code",
      "source": [
        "from google.colab import drive\n",
        "drive.mount('/content/drive')"
      ],
      "metadata": {
        "colab": {
          "base_uri": "https://localhost:8080/"
        },
        "id": "v1pJhFtLCkz0",
        "outputId": "ce1bdf75-7b3d-4d07-e44e-1c296277ae44"
      },
      "execution_count": null,
      "outputs": [
        {
          "output_type": "stream",
          "name": "stdout",
          "text": [
            "Mounted at /content/drive\n"
          ]
        }
      ]
    },
    {
      "cell_type": "code",
      "source": [
        "def intersection_over_union(boxA, boxB):\n",
        "    # determine the (x, y)-coordinates of the intersection rectangle\n",
        "    x1 = max(boxA[0], boxB[0])\n",
        "    y1 = max(boxA[1], boxB[1])\n",
        "    x2 = min(boxA[2], boxB[2])\n",
        "    y2 = min(boxA[3], boxB[3])\n",
        "\n",
        "    # compute the area of intersection rectangle\n",
        "    intersection_area = max(0, x2 - x1 + 1) * max(0, y2 - y1 + 1)\n",
        "\n",
        "    # compute the area of both the prediction and ground-truth rectangles\n",
        "    boxA_area = (boxA[2] - boxA[0] + 1) * (boxA[3] - boxA[1] + 1)\n",
        "    boxB_area = (boxB[2] - boxB[0] + 1) * (boxB[3] - boxB[1] + 1)\n",
        "\n",
        "    # compute the intersection over union by taking the intersection\n",
        "    # area and dividing it by the sum of prediction + ground-truth\n",
        "    # areas - the interesection area\n",
        "    iou = intersection_area / float(boxA_area + boxB_area - intersection_area)\n",
        "\n",
        "    # return the intersection over union value\n",
        "    return iou"
      ],
      "metadata": {
        "id": "J20ttBUG2p7I"
      },
      "execution_count": null,
      "outputs": []
    },
    {
      "cell_type": "code",
      "source": [
        "import operator\n",
        "with open(\"/content/drive/MyDrive/PFE_Master/video_prediction/Real_Data_Validation/predictions.json\") as file:\n",
        "    data = json.load(file)\n",
        "\n",
        "# Create a dictionary to store the distinct objects with the maximum score\n",
        "filtered_data = {}\n",
        "image_width = 640\n",
        "image_height = 360\n",
        "for item in data:\n",
        "    image_id = item['image_id']\n",
        "    score = item['score']\n",
        "\n",
        "    if image_id not in filtered_data or score > filtered_data[image_id]['score']:\n",
        "        filtered_data[image_id] = item\n",
        "\n",
        "# Convert the dictionary values to a list\n",
        "result = list(filtered_data.values())\n",
        "\n",
        "for item in result:\n",
        "  item['bbox'][0]=item['bbox'][0]/image_width\n",
        "  item['bbox'][2]=item['bbox'][2]/image_width\n",
        "  item['bbox'][1]=item['bbox'][1]/image_height\n",
        "  item['bbox'][3]=item['bbox'][3]/image_height\n",
        "\n",
        "\n",
        "# export the new point of bounding box in new json file\n",
        "with open('/content/drive/MyDrive/PFE_Master/video_prediction/Real_Data_Validation/ouput_predicitions.json', 'w') as file:\n",
        "  json.dump(result, file)"
      ],
      "metadata": {
        "id": "KgQuHfgsXCwg"
      },
      "execution_count": null,
      "outputs": []
    },
    {
      "cell_type": "code",
      "source": [
        "import json\n",
        "import operator\n",
        "# read résult of prédection\n",
        "with open('/content/drive/MyDrive/PFE_Master/video_prediction/Real_Data_Validation/ouput_predicitions.json') as file:\n",
        "    data = json.load(file)\n",
        "# read only the labeling of validation data\n",
        "real_labeling_path=\"/content/drive/MyDrive/PFE_Master/Project/YOLOV8FireDetection_V1/datasets/Real_validation\"\n",
        "file_list= glob.glob(real_labeling_path+ \"/*.txt\")\n",
        "iou=0\n",
        "for file_name in file_list:\n",
        "  # extract the point of bounding box predected\n",
        "  name=file_name.split('/')[-1].split('.')[0]\n",
        "  object_predict= list(filter(lambda x: x[\"image_id\"] == name, data))\n",
        "  if len(object_predict) !=0 :\n",
        "    boxA= [object_predict[0][\"bbox\"][0],object_predict[0][\"bbox\"][1],object_predict[0][\"bbox\"][2],object_predict[0][\"bbox\"][3]]\n",
        "    #extract the point of real bounding box\n",
        "    file_real_path= os.path.join(real_labeling_path, file_name)\n",
        "    with open(file_real_path, 'r') as file:\n",
        "      content = file.readline()\n",
        "      class_index, x1, y1, x2, y2 = map(float, content.strip().split())\n",
        "      boxB= [x1, y1, x2, y2]\n",
        "      # get % of intersection over union of my predection data (IOU)\n",
        "      if intersection_over_union(boxA, boxB) >= 0.5:\n",
        "        iou= iou + 1\n",
        "      #print(\"IOU =>   \", intersection_over_union(boxA, boxB))\n",
        "print(\"Intersection Over Union of Real data =>  \",iou/len(data))\n",
        "\n"
      ],
      "metadata": {
        "colab": {
          "base_uri": "https://localhost:8080/"
        },
        "id": "sUfTTk23y2vu",
        "outputId": "578d9c87-6e45-4f93-92ff-bdc772b23bd8"
      },
      "execution_count": null,
      "outputs": [
        {
          "output_type": "stream",
          "name": "stdout",
          "text": [
            "Intersection Over Union of Real data =>   0.5443458980044346\n"
          ]
        }
      ]
    },
    {
      "cell_type": "code",
      "source": [],
      "metadata": {
        "id": "Okrlrl-8XnAE"
      },
      "execution_count": null,
      "outputs": []
    }
  ]
}